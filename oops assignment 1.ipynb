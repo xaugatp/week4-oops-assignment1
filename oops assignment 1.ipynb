{
 "cells": [
  {
   "cell_type": "code",
   "execution_count": 1,
   "id": "f4e64c9c-73a4-41e3-a39f-965b576534b4",
   "metadata": {},
   "outputs": [
    {
     "data": {
      "text/plain": [
       "'Q1. Explain Class and Object with respect to Object-Oriented Programming. Give a suitable example.'"
      ]
     },
     "execution_count": 1,
     "metadata": {},
     "output_type": "execute_result"
    }
   ],
   "source": [
    "'''Q1. Explain Class and Object with respect to Object-Oriented Programming. Give a suitable example.'''"
   ]
  },
  {
   "cell_type": "code",
   "execution_count": 3,
   "id": "94324a37-1cf3-4cad-ae4c-ba3f5dd0a139",
   "metadata": {},
   "outputs": [
    {
     "name": "stdout",
     "output_type": "stream",
     "text": [
      "Toyota\n",
      "<bound method Car.brake of <__main__.Car object at 0x7fa9181be530>>\n"
     ]
    }
   ],
   "source": [
    "''' In OOPs class is a blueprint or template that defines the structure and behaviour of objects. A class encapsulate data and functions that operate on that data.\n",
    "An Object is an instance of class, it represents a real-world entity that can be created based on the class definition. '''\n",
    "class Car:\n",
    "    def __init__(self,make,model,year):\n",
    "        self.make = make\n",
    "        self.model = model\n",
    "        self.year = year\n",
    "    def accelerate(self):\n",
    "        print(\"Our car is accelerating\")\n",
    "    def brake(self):\n",
    "        print(\"Pappu is applying brake\")\n",
    "        \n",
    "#Creating objects of the car class\n",
    "car1 = Car(\"Toyota\",\"Corolla\",2023)\n",
    "car2 = Car(\"Tesla\", \"epic\",2029)\n",
    "\n",
    "#Acessing the attributes of the objects\n",
    "print(car1.make)\n",
    "print(car2.brake)"
   ]
  },
  {
   "cell_type": "code",
   "execution_count": 4,
   "id": "9042ce75-531b-4bf2-8606-df3012140642",
   "metadata": {},
   "outputs": [
    {
     "data": {
      "text/plain": [
       "'Q2. Name the four pillars of OOPs'"
      ]
     },
     "execution_count": 4,
     "metadata": {},
     "output_type": "execute_result"
    }
   ],
   "source": [
    "'''Q2. Name the four pillars of OOPs'''"
   ]
  },
  {
   "cell_type": "code",
   "execution_count": 5,
   "id": "110be920-3cb4-4d42-b99d-afb5eee802b2",
   "metadata": {},
   "outputs": [],
   "source": [
    "#Four pillars of oops are:Encapsulation,Inheritance,Polymorphism and Abstraction"
   ]
  },
  {
   "cell_type": "code",
   "execution_count": 6,
   "id": "82cf6c23-266e-4c3b-9f9b-8ddb781dc877",
   "metadata": {},
   "outputs": [
    {
     "data": {
      "text/plain": [
       "'Q3. Explain why the __init__() function is used. Give a suitable example.'"
      ]
     },
     "execution_count": 6,
     "metadata": {},
     "output_type": "execute_result"
    }
   ],
   "source": [
    "'''Q3. Explain why the __init__() function is used. Give a suitable example.'''"
   ]
  },
  {
   "cell_type": "code",
   "execution_count": 7,
   "id": "212b0549-f637-4018-9df2-84ee1c75ae88",
   "metadata": {},
   "outputs": [
    {
     "name": "stdout",
     "output_type": "stream",
     "text": [
      "Name: Alice\n",
      "Age: 25\n"
     ]
    }
   ],
   "source": [
    "#The purpose of the __init__() method is to initialize the attributes (state) of an object.\n",
    "class Person:\n",
    "    def __init__(self, name, age):\n",
    "        self.name = name\n",
    "        self.age = age\n",
    "\n",
    "    def display_info(self):\n",
    "        print(f\"Name: {self.name}\")\n",
    "        print(f\"Age: {self.age}\")\n",
    "\n",
    "# Creating an instance of the Person class\n",
    "person = Person(\"Alice\", 25)\n",
    "\n",
    "# Accessing and displaying the object's attributes\n",
    "person.display_info()\n"
   ]
  },
  {
   "cell_type": "code",
   "execution_count": 8,
   "id": "b004874a-a3a3-4236-9e6b-b31c60420f12",
   "metadata": {},
   "outputs": [
    {
     "data": {
      "text/plain": [
       "'Q4. Why self is used in OOPs?'"
      ]
     },
     "execution_count": 8,
     "metadata": {},
     "output_type": "execute_result"
    }
   ],
   "source": [
    "'''Q4. Why self is used in OOPs?'''"
   ]
  },
  {
   "cell_type": "code",
   "execution_count": 9,
   "id": "00f96095-780d-47c4-8ecc-e82f9038bb68",
   "metadata": {},
   "outputs": [],
   "source": [
    "#`self` is used in OOP to refer to the instance of a class within its own methods.\n"
   ]
  },
  {
   "cell_type": "code",
   "execution_count": 10,
   "id": "a542de2a-de0a-4b89-9100-7c7abf9f9a50",
   "metadata": {},
   "outputs": [
    {
     "data": {
      "text/plain": [
       "'Q5. What is inheritance? Give an example for each type of inheritance.'"
      ]
     },
     "execution_count": 10,
     "metadata": {},
     "output_type": "execute_result"
    }
   ],
   "source": [
    "'''Q5. What is inheritance? Give an example for each type of inheritance.'''"
   ]
  },
  {
   "cell_type": "code",
   "execution_count": null,
   "id": "f034a573-cf5e-42eb-b75b-da50caa1903c",
   "metadata": {},
   "outputs": [],
   "source": [
    "'''Inheritance is a fundamental concept in object-oriented programming (OOP) that allows a class to inherit attributes and methods from another class.\n",
    "It enables code reuse, promotes code organization, and establishes relationships between classes.\n",
    "\n",
    "There are four types of inheritance:\n",
    "\n",
    "1. Single Inheritance: In single inheritance, a class inherits attributes and methods from a single base class. It represents an \"is-a\" relationship between the derived class (subclass) and\n",
    "the base class (superclass). For example:'''\n",
    "class Animal:\n",
    "    def eat(self):\n",
    "        print(\"Animal is eating.\")\n",
    "\n",
    "class Dog(Animal):\n",
    "    def bark(self):\n",
    "        print(\"Dog is barking.\")\n",
    "\n",
    "dog = Dog()\n",
    "dog.eat()   # Output: Animal is eating.\n",
    "dog.bark()  # Output: Dog is barking.\n",
    "'''\n",
    "In this example, the `Dog` class inherits the `eat()` method from the `Animal` class.\n",
    "\n",
    "2. Multiple Inheritance: In multiple inheritance, a class inherits attributes and methods from multiple base classes. It allows a class to inherit from more than one class and combine their features. For example:\n",
    "\n",
    "'''\n",
    "class Car:\n",
    "    def drive(self):\n",
    "        print(\"Car is driving.\")\n",
    "\n",
    "class Boat:\n",
    "    def sail(self):\n",
    "        print(\"Boat is sailing.\")\n",
    "\n",
    "class AmphibiousVehicle(Car, Boat):\n",
    "    def operate(self):\n",
    "        print(\"Amphibious vehicle is operating.\")\n",
    "\n",
    "vehicle = AmphibiousVehicle()\n",
    "vehicle.drive()  # Output: Car is driving.\n",
    "vehicle.sail()   # Output: Boat is sailing.\n",
    "vehicle.operate()  # Output: Amphibious vehicle is operating.\n",
    "```\n",
    "'''\n",
    "In this example, the `AmphibiousVehicle` class inherits from both the `Car` and `Boat` classes.\n",
    "\n",
    "3. Multilevel Inheritance: In multilevel inheritance, a class inherits from a derived class, which in turn inherits from another class. It represents a hierarchical structure of inheritance. For example:\n",
    "\n",
    "'''\n",
    "class Vehicle:\n",
    "    def move(self):\n",
    "        print(\"Vehicle is moving.\")\n",
    "\n",
    "class Car(Vehicle):\n",
    "    def drive(self):\n",
    "        print(\"Car is driving.\")\n",
    "\n",
    "class SportsCar(Car):\n",
    "    def race(self):\n",
    "        print(\"Sports car is racing.\")\n",
    "\n",
    "sports_car = SportsCar()\n",
    "sports_car.move()  # Output: Vehicle is moving.\n",
    "sports_car.drive()  # Output: Car is driving.\n",
    "sports_car.race()  # Output: Sports car is racing.\n",
    "'''\n",
    "In this example, the `SportsCar` class inherits from the `Car` class, which itself inherits from the `Vehicle` class.\n",
    "\n",
    "4. Hierarchical Inheritance: In hierarchical inheritance, multiple derived classes inherit from a single base class. It represents a branching inheritance structure. For example:\n",
    "'''\n",
    "class Animal:\n",
    "    def eat(self):\n",
    "        print(\"Animal is eating.\")\n",
    "\n",
    "class Dog(Animal):\n",
    "    def bark(self):\n",
    "        print(\"Dog is barking.\")\n",
    "\n",
    "class Cat(Animal):\n",
    "    def meow(self):\n",
    "        print(\"Cat is meowing.\")\n",
    "\n",
    "dog = Dog()\n",
    "dog.eat()   # Output: Animal is eating.\n",
    "dog.bark()  # Output: Dog is barking.\n",
    "\n",
    "cat = Cat()\n",
    "cat.eat()   # Output: Animal is eating.\n",
    "cat.meow()  # Output: Cat is meowing.\n",
    "'''\n",
    "In this example, both the `Dog` and `Cat` classes inherit the `eat()` method from the `Animal` class.\n",
    "\n",
    "These examples illustrate the different types of inheritance—single inheritance, multiple inheritance, multilevel inheritance, and hierarchical inheritance—each demonstrating a specific\n",
    "relationship between the derived and base classes."
   ]
  }
 ],
 "metadata": {
  "kernelspec": {
   "display_name": "Python 3 (ipykernel)",
   "language": "python",
   "name": "python3"
  },
  "language_info": {
   "codemirror_mode": {
    "name": "ipython",
    "version": 3
   },
   "file_extension": ".py",
   "mimetype": "text/x-python",
   "name": "python",
   "nbconvert_exporter": "python",
   "pygments_lexer": "ipython3",
   "version": "3.10.8"
  }
 },
 "nbformat": 4,
 "nbformat_minor": 5
}
